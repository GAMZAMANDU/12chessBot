{
  "nbformat": 4,
  "nbformat_minor": 0,
  "metadata": {
    "colab": {
      "provenance": [],
      "authorship_tag": "ABX9TyMFJeSYMod57vdgKQ9GJjJU",
      "include_colab_link": true
    },
    "kernelspec": {
      "name": "python3",
      "display_name": "Python 3"
    },
    "language_info": {
      "name": "python"
    }
  },
  "cells": [
    {
      "cell_type": "markdown",
      "metadata": {
        "id": "view-in-github",
        "colab_type": "text"
      },
      "source": [
        "<a href=\"https://colab.research.google.com/github/GAMZAMANDU/12chessBot/blob/master/Extracting_YouTube_Videos.ipynb\" target=\"_parent\"><img src=\"https://colab.research.google.com/assets/colab-badge.svg\" alt=\"Open In Colab\"/></a>"
      ]
    },
    {
      "cell_type": "markdown",
      "source": [
        "# 1. 유튜브 영상 추출하기"
      ],
      "metadata": {
        "id": "lBjGJ6DjcE6T"
      }
    },
    {
      "cell_type": "code",
      "execution_count": 1,
      "metadata": {
        "id": "AH-HwV13th32",
        "colab": {
          "base_uri": "https://localhost:8080/"
        },
        "outputId": "429017ef-ee15-4317-b9e9-b1e505d6cb24"
      },
      "outputs": [
        {
          "output_type": "stream",
          "name": "stdout",
          "text": [
            "Collecting pytubefix\n",
            "  Downloading pytubefix-8.13.1-py3-none-any.whl.metadata (5.3 kB)\n",
            "Downloading pytubefix-8.13.1-py3-none-any.whl (731 kB)\n",
            "\u001b[2K   \u001b[90m━━━━━━━━━━━━━━━━━━━━━━━━━━━━━━━━━━━━━━━━\u001b[0m \u001b[32m731.5/731.5 kB\u001b[0m \u001b[31m7.0 MB/s\u001b[0m eta \u001b[36m0:00:00\u001b[0m\n",
            "\u001b[?25hInstalling collected packages: pytubefix\n",
            "Successfully installed pytubefix-8.13.1\n"
          ]
        }
      ],
      "source": [
        "pip install pytubefix"
      ]
    },
    {
      "cell_type": "code",
      "source": [
        "from pytubefix import YouTube\n",
        "import subprocess\n",
        "import os\n",
        "import time\n",
        "\n",
        "start_time = time.time()\n",
        "\n",
        "url = \"https://www.youtube.com/watch?v=DPD6N-nfL38\"\n",
        "choice = input(\"다운로드 타입 선택 (video/audio): \").lower()\n",
        "\n",
        "yt = YouTube(url)\n",
        "\n",
        "if choice == 'audio':\n",
        "    audio_streams = yt.streams.filter(only_audio=True)\n",
        "    stream = min(audio_streams, key=lambda x: x.filesize or float('inf'))\n",
        "\n",
        "    temp_file = stream.download(filename=\"temp_audio\")\n",
        "\n",
        "    subprocess.run(['ffmpeg', '-i', temp_file, '-acodec', 'pcm_s16le', '-ar', '44100', 'audio.wav', '-y', '-loglevel', 'error'])\n",
        "\n",
        "    os.remove(temp_file)\n",
        "    print(\"✅ WAV 파일 생성 완료: audio.wav\")\n",
        "\n",
        "else:\n",
        "    stream = yt.streams.get_highest_resolution()\n",
        "    stream.download(filename=\"video.mp4\")\n",
        "    print(\"✅ 비디오 다운로드 완료: video.mp4\")\n",
        "\n",
        "print(f\"⏱️ 총 소요시간: {time.time() - start_time:.2f}초\")\n"
      ],
      "metadata": {
        "colab": {
          "base_uri": "https://localhost:8080/"
        },
        "id": "poTrxg5pcrKw",
        "outputId": "5e07bb8f-c03e-49e1-8732-37176a8a3275"
      },
      "execution_count": 6,
      "outputs": [
        {
          "output_type": "stream",
          "name": "stdout",
          "text": [
            "다운로드 타입 선택 (video/audio): audio\n",
            "✅ WAV 파일 생성 완료: audio.wav\n",
            "⏱️ 총 소요시간: 5.75초\n"
          ]
        }
      ]
    },
    {
      "cell_type": "markdown",
      "source": [
        "# 2. 오디오에서 텍스트 추출하기"
      ],
      "metadata": {
        "id": "3HAZ0K2hsTJ6"
      }
    },
    {
      "cell_type": "code",
      "source": [
        "pip install SpeechRecognition"
      ],
      "metadata": {
        "colab": {
          "base_uri": "https://localhost:8080/"
        },
        "id": "bapop983qNvS",
        "outputId": "680f542a-d767-4e05-dcaf-8cc23feed51a"
      },
      "execution_count": 7,
      "outputs": [
        {
          "output_type": "stream",
          "name": "stdout",
          "text": [
            "Requirement already satisfied: SpeechRecognition in /usr/local/lib/python3.11/dist-packages (3.14.2)\n",
            "Requirement already satisfied: typing-extensions in /usr/local/lib/python3.11/dist-packages (from SpeechRecognition) (4.13.2)\n"
          ]
        }
      ]
    },
    {
      "cell_type": "code",
      "source": [
        "import speech_recognition as sr\n",
        "\n",
        "recognizer = sr.Recognizer()\n",
        "with sr.AudioFile(\"audio.wav\") as source:\n",
        "    recognizer.adjust_for_ambient_noise(source)\n",
        "    audio_data = recognizer.record(source)\n",
        "    try:\n",
        "        text = recognizer.recognize_google(audio_data, language=\"ko-KR\")\n",
        "        print(text)\n",
        "    except sr.UnknownValueError:\n",
        "        text = recognizer.recognize_google(audio_data)\n",
        "        print(text)"
      ],
      "metadata": {
        "colab": {
          "base_uri": "https://localhost:8080/"
        },
        "id": "cF7PaB89sXCl",
        "outputId": "ad94fcb0-6bd5-42e7-b8ab-aa1c90824279"
      },
      "execution_count": 9,
      "outputs": [
        {
          "output_type": "stream",
          "name": "stdout",
          "text": [
            "이른바 3자 구도가 형성된 가운데 내일부터 각 후보는 22일간 공식 선거운동에 돌입합니다 안윤학 기자입니다 민주당과 개혁 신당에 이어 국민의 힘까지 진통 끝에 대선 후보가 확정되면서 이재명대 김문수대 이준석 3자 구도 대진표가 완성됐습니다 내일부터 공식 성가 운동이 시작되는 가운데 63 대상까지 치열한 본선 레이스가 펼쳐집니다 이제 각 후보와 선거사무장 사무원 등은 후보 명함을 배부할 수 있고 현수막도 개시할 수 있습니다 또 오전 7시 밤 11시까지 공개 장소에서 연설이나 대담을 할 수도 있는데 확성 장치는 밤 9시까지만 사용할 수 있습니다 선거전이 본격화되면서 각 후보의 목표와 전략에도 관심이 쏠리고 있습니다 먼저 윤석열 전 대통령 파면 이후 열리는 이번 조기 대선에서 가장 앞서 있다고 평가받는 이재명 후보가 우세한 흐름을 계속 이어갈지 관심입니다 범진보 진영에선이 후보가 민주화 이후 최초로 과반 득표 함께 두 자릿수 득표율 차이란 두 가지 목표를 동시에 이룰 거란 기대감 마저 나옵니다 이번에는 정말로 색깔이나 연고 이런 거 말고 나라를 위해서 나라를 위해서 우리 가족을 위해서 이웃으로 해서 잘 일할 사람 꼭 고르세요 반대로 수세에 몰린 상황에서 대선을 치르는 보수 진영에선 범보수 단위라 빅 텐트로 최대한 반전을 모색할 걸로 예상됩니다 하지만 단일화의 한 축으로 꼽히는 이준석 후보의 완주 의지가 워낙 강한 데다가 국민의 후보로 강한 보수 색을 띤 김문수 후보가 확정되며 단일화가 사실상 어렵게 된 것 아니냐는 관측도 나온다 며칠 안 남았네 그동안에 얼마나 화합하고 더 또 우리 당만 아니라 폭을 더 넓게 해서 전체적으로 광폭의 빅 텐트를 통해서 국민을 통합하고 자연스레 이준석 후보의 행보로 시선이 쏠리는 이유인데 개혁신당 내부에선 내심 두 자릿수 득표율을 넘어 2위 이상 결과까지 기대하는 길도 읽힌다 국민의 힘이 막판 단일화 과정에서 터져나온 잡음이 젊고 새로운 보수를 표방하는이 후보에겐 반사이익으로 작용할 수 있다는 겁니다 자연스럽게 중도보수 진영의 헤게모니는 저희 개혁 진단과 이준석이 잡게 될 것이다 확신을 가지고 있습니다 중도 보수까지 넘보는 이재명 강한 보수를 표방한 김문수 개혁 보수 입지를 굳히려는 이준석 후보의 3파전 대선 레이스가 본격 시작됐습니다 YTN 아니라고입니다\n"
          ]
        }
      ]
    }
  ]
}