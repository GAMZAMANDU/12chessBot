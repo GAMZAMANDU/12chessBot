{
  "nbformat": 4,
  "nbformat_minor": 0,
  "metadata": {
    "colab": {
      "provenance": [],
      "authorship_tag": "ABX9TyM3eCt7hWv6/TmfF9nbIZvF",
      "include_colab_link": true
    },
    "kernelspec": {
      "name": "python3",
      "display_name": "Python 3"
    },
    "language_info": {
      "name": "python"
    }
  },
  "cells": [
    {
      "cell_type": "markdown",
      "metadata": {
        "id": "view-in-github",
        "colab_type": "text"
      },
      "source": [
        "<a href=\"https://colab.research.google.com/github/GAMZAMANDU/12chessBot/blob/master/Extracting_YouTube_Videos.ipynb\" target=\"_parent\"><img src=\"https://colab.research.google.com/assets/colab-badge.svg\" alt=\"Open In Colab\"/></a>"
      ]
    },
    {
      "cell_type": "markdown",
      "source": [
        "# 1. 유튜브 영상 추출하기"
      ],
      "metadata": {
        "id": "lBjGJ6DjcE6T"
      }
    },
    {
      "cell_type": "code",
      "execution_count": 3,
      "metadata": {
        "id": "AH-HwV13th32",
        "colab": {
          "base_uri": "https://localhost:8080/"
        },
        "outputId": "1d2b866d-8628-42d1-f365-e1b8934d30f1"
      },
      "outputs": [
        {
          "output_type": "stream",
          "name": "stdout",
          "text": [
            "Collecting pytubefix\n",
            "  Downloading pytubefix-8.13.1-py3-none-any.whl.metadata (5.3 kB)\n",
            "Downloading pytubefix-8.13.1-py3-none-any.whl (731 kB)\n",
            "\u001b[?25l   \u001b[90m━━━━━━━━━━━━━━━━━━━━━━━━━━━━━━━━━━━━━━━━\u001b[0m \u001b[32m0.0/731.5 kB\u001b[0m \u001b[31m?\u001b[0m eta \u001b[36m-:--:--\u001b[0m\r\u001b[2K   \u001b[91m━━━━━━━━━━━━━━━━━━━━━━━━━━━━━━━━━━━━━━━\u001b[0m\u001b[91m╸\u001b[0m \u001b[32m727.0/731.5 kB\u001b[0m \u001b[31m28.8 MB/s\u001b[0m eta \u001b[36m0:00:01\u001b[0m\r\u001b[2K   \u001b[90m━━━━━━━━━━━━━━━━━━━━━━━━━━━━━━━━━━━━━━━━\u001b[0m \u001b[32m731.5/731.5 kB\u001b[0m \u001b[31m18.3 MB/s\u001b[0m eta \u001b[36m0:00:00\u001b[0m\n",
            "\u001b[?25hInstalling collected packages: pytubefix\n",
            "Successfully installed pytubefix-8.13.1\n"
          ]
        }
      ],
      "source": [
        "pip install pytubefix"
      ]
    },
    {
      "cell_type": "code",
      "source": [
        "from pytubefix import YouTube\n",
        "\n",
        "url = \"https://www.youtube.com/watch?v=DPD6N-nfL38\"\n",
        "choice = input(\"다운로드 타입 선택 (video/audio): \").lower()\n",
        "\n",
        "yt = YouTube(url)\n",
        "stream = yt.streams.get_audio_only() if choice == 'audio' else yt.streams.get_highest_resolution()\n",
        "stream.download(filename=f\"{yt.title}.{stream.subtype}\")\n",
        "print(\"✅ 다운로드 완료!\")\n"
      ],
      "metadata": {
        "colab": {
          "base_uri": "https://localhost:8080/"
        },
        "id": "poTrxg5pcrKw",
        "outputId": "0936074a-9139-4155-aa09-593a8113cd5d"
      },
      "execution_count": 5,
      "outputs": [
        {
          "output_type": "stream",
          "name": "stdout",
          "text": [
            "다운로드 타입 선택 (video/audio): audio\n",
            "✅ 다운로드 완료!\n"
          ]
        }
      ]
    }
  ]
}